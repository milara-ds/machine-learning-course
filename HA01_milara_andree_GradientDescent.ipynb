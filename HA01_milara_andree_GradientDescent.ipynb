{
 "cells": [
  {
   "cell_type": "markdown",
   "metadata": {
    "colab_type": "text",
    "id": "lnOJFqNwurSy"
   },
   "source": [
    "# Linear Regression homework"
   ]
  },
  {
   "cell_type": "markdown",
   "metadata": {
    "colab_type": "text",
    "id": "8ZGe_OSrurTD"
   },
   "source": [
    "The goal of this homework is to help you to understand the principles behind numerical curve fitting to the data in an actual dataset. You will complete the code left as comments in this notebook."
   ]
  },
  {
   "cell_type": "markdown",
   "metadata": {
    "colab_type": "text",
    "id": "wwU7cmWmurTQ"
   },
   "source": [
    "First import libraries"
   ]
  },
  {
   "cell_type": "code",
   "execution_count": 104,
   "metadata": {
    "colab": {},
    "colab_type": "code",
    "id": "xDrcNI_BurTb"
   },
   "outputs": [],
   "source": [
    "import numpy as np\n",
    "import pandas as pd\n",
    "import matplotlib.pyplot as plt"
   ]
  },
  {
   "cell_type": "markdown",
   "metadata": {
    "colab_type": "text",
    "id": "Imua2lDburT0"
   },
   "source": [
    "We will use sklearn only to import the dataset, but otherwise the whole process will be done without sklearn (or any other automated library, for the matter)."
   ]
  },
  {
   "cell_type": "code",
   "execution_count": 69,
   "metadata": {
    "colab": {},
    "colab_type": "code",
    "id": "n3eLv5nyurT5"
   },
   "outputs": [],
   "source": [
    "from sklearn import datasets ## imports datasets from scikit-learn"
   ]
  },
  {
   "cell_type": "markdown",
   "metadata": {
    "colab_type": "text",
    "id": "BvYGqu7purUI"
   },
   "source": [
    "The Boston Housing Dataset consists of price of houses in various places in Boston. Alongside with price, the dataset also provide information such as Crime (CRIM), areas of non-retail business in the town (INDUS), the age of people who own the house (AGE), and there are many other attributes."
   ]
  },
  {
   "cell_type": "code",
   "execution_count": 70,
   "metadata": {
    "colab": {},
    "colab_type": "code",
    "id": "jobhJyUturUN"
   },
   "outputs": [],
   "source": [
    "boston = datasets.load_boston() ## with this we are done with sklearn"
   ]
  },
  {
   "cell_type": "markdown",
   "metadata": {
    "colab_type": "text",
    "id": "_kqAXtsEurUd"
   },
   "source": [
    "Let's take a look at the size of the feature array:"
   ]
  },
  {
   "cell_type": "markdown",
   "metadata": {
    "colab_type": "text",
    "id": "fVgin007urUi"
   },
   "source": [
    "Next, we’ll load the data to Pandas "
   ]
  },
  {
   "cell_type": "code",
   "execution_count": 71,
   "metadata": {
    "colab": {},
    "colab_type": "code",
    "id": "2Uhsm9kRurUo"
   },
   "outputs": [],
   "source": [
    "# define the features/predictors as the pre-set feature names  \n",
    "df = pd.DataFrame(boston.data, columns=boston.feature_names)\n",
    "\n",
    "# Put the target (housing value -- MEDV) in another DataFrame\n",
    "target = pd.DataFrame(boston.target, columns=[\"MEDV\"])"
   ]
  },
  {
   "cell_type": "markdown",
   "metadata": {
    "colab_type": "text",
    "id": "D6VSeMY9urU1"
   },
   "source": [
    "We define input X and output y:"
   ]
  },
  {
   "cell_type": "code",
   "execution_count": 72,
   "metadata": {
    "colab": {},
    "colab_type": "code",
    "id": "uldFxlgvurU5"
   },
   "outputs": [],
   "source": [
    "X = df\n",
    "y = target['MEDV']"
   ]
  },
  {
   "cell_type": "markdown",
   "metadata": {
    "colab_type": "text",
    "id": "u64BYTdfurVE"
   },
   "source": [
    "Just check the first rows of input and output"
   ]
  },
  {
   "cell_type": "code",
   "execution_count": 73,
   "metadata": {
    "colab": {
     "base_uri": "https://localhost:8080/",
     "height": 260
    },
    "colab_type": "code",
    "id": "zt6tMG2rurVH",
    "outputId": "3eed3731-320b-4545-e5eb-2185ed7daa3f"
   },
   "outputs": [
    {
     "name": "stdout",
     "output_type": "stream",
     "text": [
      "      CRIM    ZN  INDUS  CHAS    NOX     RM   AGE     DIS  RAD    TAX  \\\n",
      "0  0.00632  18.0   2.31   0.0  0.538  6.575  65.2  4.0900  1.0  296.0   \n",
      "1  0.02731   0.0   7.07   0.0  0.469  6.421  78.9  4.9671  2.0  242.0   \n",
      "2  0.02729   0.0   7.07   0.0  0.469  7.185  61.1  4.9671  2.0  242.0   \n",
      "3  0.03237   0.0   2.18   0.0  0.458  6.998  45.8  6.0622  3.0  222.0   \n",
      "4  0.06905   0.0   2.18   0.0  0.458  7.147  54.2  6.0622  3.0  222.0   \n",
      "\n",
      "   PTRATIO       B  LSTAT  \n",
      "0     15.3  396.90   4.98  \n",
      "1     17.8  396.90   9.14  \n",
      "2     17.8  392.83   4.03  \n",
      "3     18.7  394.63   2.94  \n",
      "4     18.7  396.90   5.33  \n",
      "0    24.0\n",
      "1    21.6\n",
      "2    34.7\n",
      "3    33.4\n",
      "4    36.2\n",
      "Name: MEDV, dtype: float64\n"
     ]
    }
   ],
   "source": [
    "print(X[0:5])\n",
    "print(y[0:5])"
   ]
  },
  {
   "cell_type": "markdown",
   "metadata": {
    "colab_type": "text",
    "id": "8nsHhR5GurVP"
   },
   "source": [
    "## Gradient descent"
   ]
  },
  {
   "cell_type": "markdown",
   "metadata": {
    "colab_type": "text",
    "id": "RZc8tCDUurVS"
   },
   "source": [
    "The linear prediction ${f_i}$ in a given row $X_i$ of the dataset is calculated as $X_i$ ° $\\theta^T$, where $\\theta = \\theta_0, \\theta_1, ... \\theta_n$. Now, this assumes $X_i$ has been extended with a 1 as first element, so that the 1 will multiply $\\theta_0$, which is the intercept of the linear prediction. We want the weights $\\theta$ to be such that the difference from the prediction ${f_i}$ to the actual value $y_i$ is as little as possible. Even more, we want sum of the squares of that difference to be as small as possible, for all the rows in the dataset.\n",
    "\n",
    "We call __loss__ the cummulated quadratic error in the dataset for a given $\\theta$, so we want the loss to be as small as possible, and for that we will try different values for the $\\theta$ vector, but not in a blind way, but using the __gradient descent__ optimization method.\n",
    "\n",
    "### From dataset to matrices\n",
    "First of all, we convert the dataset to regular numpy matrices so that we don't need pandas anymore:"
   ]
  },
  {
   "cell_type": "code",
   "execution_count": 74,
   "metadata": {
    "colab": {
     "base_uri": "https://localhost:8080/",
     "height": 34
    },
    "colab_type": "code",
    "id": "lTeDKDcYurVU",
    "outputId": "53778986-accb-465c-cb86-4fefc95a24b9"
   },
   "outputs": [
    {
     "name": "stdout",
     "output_type": "stream",
     "text": [
      "(506, 13)\n"
     ]
    }
   ],
   "source": [
    "Xnum = X.to_numpy()\n",
    "ynum = y.to_numpy()\n",
    "print(Xnum.shape)"
   ]
  },
  {
   "cell_type": "markdown",
   "metadata": {
    "colab_type": "text",
    "id": "MRd6gaJTurVb"
   },
   "source": [
    "We put a column of ones at the left of X, as explained above:"
   ]
  },
  {
   "cell_type": "code",
   "execution_count": 75,
   "metadata": {
    "colab": {
     "base_uri": "https://localhost:8080/",
     "height": 399
    },
    "colab_type": "code",
    "id": "buV5_rgqurVd",
    "outputId": "b05f26c6-4561-4722-a096-87c5665d966a"
   },
   "outputs": [
    {
     "name": "stdout",
     "output_type": "stream",
     "text": [
      "[1. 1. 1. 1. 1. 1. 1. 1. 1. 1. 1. 1. 1. 1. 1. 1. 1. 1. 1. 1. 1. 1. 1. 1.\n",
      " 1. 1. 1. 1. 1. 1. 1. 1. 1. 1. 1. 1. 1. 1. 1. 1. 1. 1. 1. 1. 1. 1. 1. 1.\n",
      " 1. 1. 1. 1. 1. 1. 1. 1. 1. 1. 1. 1. 1. 1. 1. 1. 1. 1. 1. 1. 1. 1. 1. 1.\n",
      " 1. 1. 1. 1. 1. 1. 1. 1. 1. 1. 1. 1. 1. 1. 1. 1. 1. 1. 1. 1. 1. 1. 1. 1.\n",
      " 1. 1. 1. 1. 1. 1. 1. 1. 1. 1. 1. 1. 1. 1. 1. 1. 1. 1. 1. 1. 1. 1. 1. 1.\n",
      " 1. 1. 1. 1. 1. 1. 1. 1. 1. 1. 1. 1. 1. 1. 1. 1. 1. 1. 1. 1. 1. 1. 1. 1.\n",
      " 1. 1. 1. 1. 1. 1. 1. 1. 1. 1. 1. 1. 1. 1. 1. 1. 1. 1. 1. 1. 1. 1. 1. 1.\n",
      " 1. 1. 1. 1. 1. 1. 1. 1. 1. 1. 1. 1. 1. 1. 1. 1. 1. 1. 1. 1. 1. 1. 1. 1.\n",
      " 1. 1. 1. 1. 1. 1. 1. 1. 1. 1. 1. 1. 1. 1. 1. 1. 1. 1. 1. 1. 1. 1. 1. 1.\n",
      " 1. 1. 1. 1. 1. 1. 1. 1. 1. 1. 1. 1. 1. 1. 1. 1. 1. 1. 1. 1. 1. 1. 1. 1.\n",
      " 1. 1. 1. 1. 1. 1. 1. 1. 1. 1. 1. 1. 1. 1. 1. 1. 1. 1. 1. 1. 1. 1. 1. 1.\n",
      " 1. 1. 1. 1. 1. 1. 1. 1. 1. 1. 1. 1. 1. 1. 1. 1. 1. 1. 1. 1. 1. 1. 1. 1.\n",
      " 1. 1. 1. 1. 1. 1. 1. 1. 1. 1. 1. 1. 1. 1. 1. 1. 1. 1. 1. 1. 1. 1. 1. 1.\n",
      " 1. 1. 1. 1. 1. 1. 1. 1. 1. 1. 1. 1. 1. 1. 1. 1. 1. 1. 1. 1. 1. 1. 1. 1.\n",
      " 1. 1. 1. 1. 1. 1. 1. 1. 1. 1. 1. 1. 1. 1. 1. 1. 1. 1. 1. 1. 1. 1. 1. 1.\n",
      " 1. 1. 1. 1. 1. 1. 1. 1. 1. 1. 1. 1. 1. 1. 1. 1. 1. 1. 1. 1. 1. 1. 1. 1.\n",
      " 1. 1. 1. 1. 1. 1. 1. 1. 1. 1. 1. 1. 1. 1. 1. 1. 1. 1. 1. 1. 1. 1. 1. 1.\n",
      " 1. 1. 1. 1. 1. 1. 1. 1. 1. 1. 1. 1. 1. 1. 1. 1. 1. 1. 1. 1. 1. 1. 1. 1.\n",
      " 1. 1. 1. 1. 1. 1. 1. 1. 1. 1. 1. 1. 1. 1. 1. 1. 1. 1. 1. 1. 1. 1. 1. 1.\n",
      " 1. 1. 1. 1. 1. 1. 1. 1. 1. 1. 1. 1. 1. 1. 1. 1. 1. 1. 1. 1. 1. 1. 1. 1.\n",
      " 1. 1. 1. 1. 1. 1. 1. 1. 1. 1. 1. 1. 1. 1. 1. 1. 1. 1. 1. 1. 1. 1. 1. 1.\n",
      " 1. 1.]\n"
     ]
    }
   ],
   "source": [
    "ones = np.ones([X.shape[0],1])\n",
    "Xnum = np.concatenate((ones,Xnum),axis=1)\n",
    "Xnum[0:1]\n",
    "print(Xnum[:,0])"
   ]
  },
  {
   "cell_type": "markdown",
   "metadata": {
    "colab_type": "text",
    "id": "IKgMKwJKurVk"
   },
   "source": [
    "Please first define the cost function: (as a verification, the value for $\\theta =$ np.array([1,1,1,1,1,1,1,1,1,1,1,1,1,1,1]) should be a number, around 412,764)"
   ]
  },
  {
   "cell_type": "code",
   "execution_count": 76,
   "metadata": {
    "colab": {},
    "colab_type": "code",
    "id": "80EfOliaurVo"
   },
   "outputs": [
    {
     "data": {
      "text/plain": [
       "411874.07592440146"
      ]
     },
     "execution_count": 76,
     "metadata": {},
     "output_type": "execute_result"
    }
   ],
   "source": [
    "def quadCost(X,y,theta):\n",
    "    #sum of each computation between the row and theta vector\n",
    "    estimated = np.zeros([len(y)])\n",
    "    \n",
    "    #for to get the sum of each multiplication of row vs theta vector\n",
    "    for i in range(len(y)):\n",
    "        val = X[i] * theta \n",
    "        estimated[i] = val.sum()\n",
    "    \n",
    "    #get the difference and square the results\n",
    "    dif_sqr = (y - estimated)**2\n",
    "    \n",
    "    #compute the cost by dividing the value by 2 *len of y\n",
    "    cost = dif_sqr.sum()/(2*len(y))\n",
    "\n",
    "    return cost\n",
    "\n",
    "theta = np.ones(X.shape[1] + 1)\n",
    "quadCost(Xnum,ynum,theta)"
   ]
  },
  {
   "cell_type": "markdown",
   "metadata": {
    "colab_type": "text",
    "id": "r5D0dCjHurVu"
   },
   "source": [
    "Now let's define the gradient descent function, which calls quadCost:"
   ]
  },
  {
   "cell_type": "code",
   "execution_count": 113,
   "metadata": {
    "colab": {
     "base_uri": "https://localhost:8080/",
     "height": 134
    },
    "colab_type": "code",
    "id": "dVN4gXkcurVx",
    "outputId": "038483d2-30eb-4c14-9003-47cff23adcff"
   },
   "outputs": [
    {
     "name": "stdout",
     "output_type": "stream",
     "text": [
      "[ 0.99537116  0.89134143  0.71417917  0.93775431  0.99994412  0.99706235\n",
      "  0.9763453   0.38019994  0.97950806  0.97652251 -0.16170423  0.91458504\n",
      " -0.01862482  0.83264476]\n",
      "This is the error: 201.65406266790148\n"
     ]
    }
   ],
   "source": [
    "def graDescent(X,y,theta,iters,alpha):\n",
    "    cost = np.zeros(iters) #initialize costs with zeros\n",
    "\n",
    "    for i in range(iters):  \n",
    "        # calculate the error\n",
    "        estimated = np.zeros([len(y)])\n",
    "        for j in range(len(y)):\n",
    "            val = X[j] * theta \n",
    "            estimated[j] = val.sum() \n",
    "        \n",
    "        error = estimated - y\n",
    "\n",
    "        for j in range(len(theta)):\n",
    "            val = error * X[:,j]\n",
    "            theta[j] = theta[j] - (alpha/len(y)) * (val.sum())\n",
    "        \n",
    "        cost[i] = quadCost(Xnum,ynum,theta)\n",
    "        \n",
    "    return theta,cost\n",
    "# theta is the final updated value of theta\n",
    "# cost should be a vector of the history of costs, from the initial one\n",
    "\n",
    "theta = np.ones(X.shape[1] + 1)\n",
    "alpha = 0.000006\n",
    "iters = 250\n",
    "\n",
    "finalTheta,costVector = graDescent(Xnum,ynum,theta,iters,alpha)\n",
    "print(finalTheta)\n",
    "print(\"This is the error: {}\".format(costVector[-1]))"
   ]
  },
  {
   "cell_type": "markdown",
   "metadata": {
    "colab_type": "text",
    "id": "k9rl3aeEurV4"
   },
   "source": [
    "Initialize the values of the parameters; theta should be initialized with random numbers"
   ]
  },
  {
   "cell_type": "code",
   "execution_count": 114,
   "metadata": {
    "colab": {},
    "colab_type": "code",
    "id": "QGSQ00FBurV6"
   },
   "outputs": [
    {
     "name": "stdout",
     "output_type": "stream",
     "text": [
      "[-979  577  316  732 -606  466  681  663 -683 -748 -445 -775 -471 -924]\n"
     ]
    }
   ],
   "source": [
    "# You initialization here\n",
    "theta = np.random.randint(low = -1000 , high = 1000, size = X.shape[1] + 1)\n",
    "print(theta)"
   ]
  },
  {
   "cell_type": "markdown",
   "metadata": {
    "colab_type": "text",
    "id": "9N5YPl_1urWC"
   },
   "source": [
    "Call gradient descent from the X, y, theta, iters and alpha, and get the final theta and the cost vector:"
   ]
  },
  {
   "cell_type": "code",
   "execution_count": 115,
   "metadata": {
    "colab": {},
    "colab_type": "code",
    "id": "Bm7VcUXlurWD"
   },
   "outputs": [],
   "source": [
    "alpha = 0.000006\n",
    "iters = 250\n",
    "\n",
    "finalTheta,costVector = graDescent(Xnum,ynum,theta,iters,alpha)"
   ]
  },
  {
   "cell_type": "markdown",
   "metadata": {
    "colab_type": "text",
    "id": "mK_USEEfurWL"
   },
   "source": [
    "We print the value you obtained for theta:"
   ]
  },
  {
   "cell_type": "code",
   "execution_count": 116,
   "metadata": {
    "colab": {},
    "colab_type": "code",
    "id": "VfuZN1CcurWN"
   },
   "outputs": [
    {
     "name": "stdout",
     "output_type": "stream",
     "text": [
      "[-911  342  128  503 -592  246  477  266 -444 -521    0 -625   -1 -808]\n"
     ]
    }
   ],
   "source": [
    "print(finalTheta)"
   ]
  },
  {
   "cell_type": "markdown",
   "metadata": {
    "colab_type": "text",
    "id": "7Oj5kWJnurWW"
   },
   "source": [
    "Graph the cost vector. If it converges, then it will be a nice curve gradually going down:"
   ]
  },
  {
   "cell_type": "code",
   "execution_count": 120,
   "metadata": {
    "colab": {},
    "colab_type": "code",
    "id": "P8MaX1Y5urWZ"
   },
   "outputs": [
    {
     "data": {
      "image/png": "[encoded data removed]",
      "text/plain": [
       "<Figure size 468x360 with 1 Axes>"
      ]
     },
     "metadata": {
      "needs_background": "light"
     },
     "output_type": "display_data"
    }
   ],
   "source": [
    "# your plot code here; the figure should appear below\n",
    "\n",
    "values = np.arange(iters)\n",
    "\n",
    "plt.figure(figsize = (6.5, 5))\n",
    "plt.plot(values, costVector, )\n",
    "plt.xlabel(\"Iteration\")\n",
    "plt.ylabel(\"Cost\")\n",
    "plt.show()"
   ]
  },
  {
   "cell_type": "code",
   "execution_count": null,
   "metadata": {},
   "outputs": [],
   "source": []
  }
 ],
 "metadata": {
  "colab": {
   "name": "LinearRegressionHomework.ipynb",
   "provenance": []
  },
  "kernelspec": {
   "display_name": "Python 3",
   "language": "python",
   "name": "python3"
  },
  "language_info": {
   "codemirror_mode": {
    "name": "ipython",
    "version": 3
   },
   "file_extension": ".py",
   "mimetype": "text/x-python",
   "name": "python",
   "nbconvert_exporter": "python",
   "pygments_lexer": "ipython3",
   "version": "3.7.10"
  }
 },
 "nbformat": 4,
 "nbformat_minor": 4
}
